{
 "cells": [
  {
   "cell_type": "code",
   "execution_count": null,
   "id": "7b82b31f5ed13488",
   "metadata": {
    "collapsed": true
   },
   "outputs": [],
   "source": [
    "import datasets\n",
    "import transformers\n",
    "from peft import LoraConfig\n",
    "from trl import SFTConfig, SFTTrainer\n",
    "from utils import load_untrained_llama2_model\n",
    "tokenizer, model = load_untrained_llama2_model()"
   ]
  },
  {
   "metadata": {},
   "cell_type": "code",
   "outputs": [],
   "execution_count": null,
   "source": [
    "\n",
    "# for now only with zero-shot dataset\n",
    "zero_shot_dataset_dict: datasets.DatasetDict = datasets.load_from_disk(\n",
    "    \"zero_shot_dataset\"\n",
    ")\n",
    "\n",
    "def tokenize_function(examples):\n",
    "    result = tokenizer(examples[\"prompt\"], truncation=False)[\"input_ids\"]\n",
    "    return {\"input_ids\": result}\n",
    "\n",
    "tokenized_train_dataset = zero_shot_dataset_dict[\"train\"].map(\n",
    "    tokenize_function, batched=True, remove_columns=\"prompt\"\n",
    ")\n",
    "tokenized_eval_dataset = zero_shot_dataset_dict[\"validation_prompted\"].map(\n",
    "    tokenize_function, batched=True, remove_columns=\"prompt\"\n",
    ")\n",
    "peft_params = LoraConfig(\n",
    "    lora_alpha=16, lora_dropout=0.1, r=16, bias=\"none\", task_type=\"CAUSAL_LM\"\n",
    ")\n",
    "collator = transformers.DataCollatorForLanguageModeling(\n",
    "    tokenizer=tokenizer, mlm=False\n",
    ")\n",
    "training_params = SFTConfig(\n",
    "    max_steps=-1,\n",
    "    group_by_length=True,\n",
    "    output_dir=\"output\",\n",
    "    learning_rate=5e-5,\n",
    "    logging_steps=100,\n",
    "    weight_decay=0.01,\n",
    "    max_grad_norm=1.0,\n",
    "    adam_epsilon=1e-8,\n",
    "    warmup_steps=10,\n",
    "    save_steps=1000,\n",
    "    save_total_limit=2,\n",
    "    gradient_accumulation_steps=1,\n",
    "    num_train_epochs=50,\n",
    ")\n",
    "trainer = SFTTrainer(\n",
    "    model=model,\n",
    "    train_dataset=tokenized_train_dataset,\n",
    "    eval_dataset=tokenized_eval_dataset,\n",
    "    peft_config=peft_params,\n",
    "    args=training_params,\n",
    "    data_collator=collator,\n",
    ")\n",
    "trainer.train()\n"
   ],
   "id": "initial_id"
  }
 ],
 "metadata": {
  "kernelspec": {
   "display_name": "Python 3",
   "language": "python",
   "name": "python3"
  },
  "language_info": {
   "codemirror_mode": {
    "name": "ipython",
    "version": 2
   },
   "file_extension": ".py",
   "mimetype": "text/x-python",
   "name": "python",
   "nbconvert_exporter": "python",
   "pygments_lexer": "ipython2",
   "version": "2.7.6"
  }
 },
 "nbformat": 4,
 "nbformat_minor": 5
}
